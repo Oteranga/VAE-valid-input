{
  "nbformat": 4,
  "nbformat_minor": 0,
  "metadata": {
    "colab": {
      "name": "PyTorch.ipynb",
      "provenance": [],
      "collapsed_sections": [],
      "toc_visible": true,
      "include_colab_link": true
    },
    "kernelspec": {
      "name": "python3",
      "display_name": "Python 3"
    },
    "language_info": {
      "name": "python"
    },
    "accelerator": "GPU"
  },
  "cells": [
    {
      "cell_type": "markdown",
      "metadata": {
        "id": "view-in-github",
        "colab_type": "text"
      },
      "source": [
        "<a href=\"https://colab.research.google.com/github/Oteranga/VAE-valid-input/blob/main/MNIST/MNIST-models.ipynb\" target=\"_parent\"><img src=\"https://colab.research.google.com/assets/colab-badge.svg\" alt=\"Open In Colab\"/></a>"
      ]
    },
    {
      "cell_type": "code",
      "execution_count": 79,
      "metadata": {
        "id": "2wIEM5fIn6F_"
      },
      "outputs": [],
      "source": [
        "# Load in relevant libraries, and alias where appropriate\n",
        "import torch\n",
        "import torch.nn as nn\n",
        "import torchvision\n",
        "import torchvision.transforms as transforms\n",
        "from torchsummary import summary\n",
        "import os\n"
      ]
    },
    {
      "cell_type": "code",
      "source": [
        "# Define relevant variables for the ML task\n",
        "num_classes = 10\n",
        "learning_rate = 0.001\n",
        "num_epochs = 10\n",
        "batch_size = 64\n",
        "\n",
        "# Device will determine whether to run the training on GPU or CPU.\n",
        "device = torch.device('cuda' if torch.cuda.is_available() else 'cpu')"
      ],
      "metadata": {
        "id": "iwg_iLcNNw_N"
      },
      "execution_count": 126,
      "outputs": []
    },
    {
      "cell_type": "markdown",
      "source": [
        "### MNIST Dataset"
      ],
      "metadata": {
        "id": "n-ILV5ltbdWR"
      }
    },
    {
      "cell_type": "code",
      "source": [
        "already_downloaded = os.path.isdir('/content/data/MNIST/raw')\n",
        "download = already_downloaded == False\n",
        "\n",
        "#Loading the dataset and preprocessing\n",
        "train_dataset = torchvision.datasets.MNIST(root = './data',\n",
        "                                           train = True,\n",
        "                                           transform = transforms.Compose([\n",
        "                                                  transforms.Resize((32,32)),\n",
        "                                                  transforms.ToTensor(),\n",
        "                                                  transforms.Normalize(mean = (0.1307,), std = (0.3081,))\n",
        "                                                  ]),\n",
        "                                           download = True)\n",
        "\n",
        "\n",
        "test_dataset = torchvision.datasets.MNIST(root = './data',\n",
        "                                          train = False,\n",
        "                                          transform = transforms.Compose([\n",
        "                                                  transforms.Resize((32,32)),\n",
        "                                                  transforms.ToTensor(),\n",
        "                                                  transforms.Normalize(mean = (0.1325,), std = (0.3105,))\n",
        "                                                  ]),\n",
        "                                          download = True)\n",
        "\n",
        "train_loader = torch.utils.data.DataLoader(dataset = train_dataset,\n",
        "                                           batch_size = batch_size,\n",
        "                                           shuffle = True)\n",
        "\n",
        "test_loader = torch.utils.data.DataLoader(dataset = test_dataset,\n",
        "                                           batch_size = batch_size,\n",
        "                                           shuffle = True)"
      ],
      "metadata": {
        "id": "172Kr1t7olgf"
      },
      "execution_count": 133,
      "outputs": []
    },
    {
      "cell_type": "markdown",
      "source": [
        "## Main"
      ],
      "metadata": {
        "id": "J2pXJsTwIH5h"
      }
    },
    {
      "cell_type": "markdown",
      "source": [
        "### Training method"
      ],
      "metadata": {
        "id": "FlbPGUgm8_QY"
      }
    },
    {
      "cell_type": "code",
      "source": [
        "def trainModel(model, train_loader, num_epochs, learning_rate, cost):\n",
        "    optimizer = torch.optim.Adadelta(model.parameters(), lr=learning_rate)\n",
        "    total_step = len(train_loader)\n",
        "\n",
        "    for epoch in range(num_epochs):\n",
        "        for i, (images, labels) in enumerate(train_loader):  \n",
        "            images = images.to(device)\n",
        "            labels = labels.to(device)\n",
        "\n",
        "            #Forward pass\n",
        "            outputs = model(images)\n",
        "            loss = cost(outputs, labels)\n",
        "                \n",
        "            # Backward and optimize\n",
        "            optimizer.zero_grad()\n",
        "            loss.backward()\n",
        "            optimizer.step()\n",
        "                    \n",
        "            if (i+1) % (total_step//2) == 0:\n",
        "                print ('Epoch [{}/{}], Step [{}/{}], Loss: {:.4f}' \n",
        "                            .format(epoch+1, num_epochs, i+1, total_step, loss.item()))"
      ],
      "metadata": {
        "id": "OYuGEKWy5rDo"
      },
      "execution_count": 84,
      "outputs": []
    },
    {
      "cell_type": "markdown",
      "source": [
        "### Testing Method"
      ],
      "metadata": {
        "id": "T0caEzTiILsm"
      }
    },
    {
      "cell_type": "code",
      "source": [
        "def evaluateModel(model, test_loader):\n",
        "    with torch.no_grad():\n",
        "        correct = 0\n",
        "        total = 0\n",
        "        for images, labels in test_loader:\n",
        "            images = images.to(device)\n",
        "            labels = labels.to(device)\n",
        "            outputs = model(images)\n",
        "            _, predicted = torch.max(outputs.data, 1)\n",
        "            total += labels.size(0)\n",
        "            correct += (predicted == labels).sum().item()\n",
        "    print('Accuracy of the network on the 10000 test images: {} %'.format(100 * correct / total))\n"
      ],
      "metadata": {
        "id": "WRUufucl8wJx"
      },
      "execution_count": 5,
      "outputs": []
    },
    {
      "cell_type": "markdown",
      "source": [
        "## Model 1: LeNet1"
      ],
      "metadata": {
        "id": "_scULU3LpkZB"
      }
    },
    {
      "cell_type": "code",
      "source": [
        "class LeNet1(nn.Module):\n",
        "    def __init__(self, num_classes):\n",
        "        super(LeNet1, self).__init__()\n",
        "        self.block1 = nn.Sequential(\n",
        "            nn.Conv2d(1, 4, kernel_size = 5, padding = 'same'),\n",
        "            nn.ReLU(),\n",
        "            nn.MaxPool2d(kernel_size = 2, stride = 2))\n",
        "        self.block2 = nn.Sequential(\n",
        "            nn.Conv2d(4, 12, kernel_size = 5, padding = 'same'),\n",
        "            nn.ReLU(),\n",
        "            nn.MaxPool2d(kernel_size = 2, stride = 2))\n",
        "        self.dense = nn.Linear(768, num_classes)\n",
        "\n",
        "    def forward(self, x):\n",
        "        out = self.block1(x)\n",
        "        out = self.block2(out)\n",
        "        \n",
        "        out = out.reshape(out.size(0), -1) #Flatten\n",
        "        out = self.dense(out)\n",
        "        return out"
      ],
      "metadata": {
        "id": "YC-MV5ZZpXzw"
      },
      "execution_count": 100,
      "outputs": []
    },
    {
      "cell_type": "markdown",
      "source": [
        "### Info"
      ],
      "metadata": {
        "id": "f5TA128Sfdfq"
      }
    },
    {
      "cell_type": "code",
      "source": [
        "model1 = LeNet1(num_classes).to(device)\n",
        "x = torch.randn(64,1,32,32).to(device)\n",
        "output = model1(x)\n",
        "\n",
        "#print(model1)\n",
        "summary(model1, (1,32,32))\n",
        "print(\"output.shape : \",output.shape)"
      ],
      "metadata": {
        "colab": {
          "base_uri": "https://localhost:8080/"
        },
        "id": "lQ-mx8dkrnW-",
        "outputId": "b15ede25-4b75-4628-b303-800e73f2063e"
      },
      "execution_count": 131,
      "outputs": [
        {
          "output_type": "stream",
          "name": "stdout",
          "text": [
            "----------------------------------------------------------------\n",
            "        Layer (type)               Output Shape         Param #\n",
            "================================================================\n",
            "            Conv2d-1            [-1, 4, 32, 32]             104\n",
            "              ReLU-2            [-1, 4, 32, 32]               0\n",
            "         MaxPool2d-3            [-1, 4, 16, 16]               0\n",
            "            Conv2d-4           [-1, 12, 16, 16]           1,212\n",
            "              ReLU-5           [-1, 12, 16, 16]               0\n",
            "         MaxPool2d-6             [-1, 12, 8, 8]               0\n",
            "            Linear-7                   [-1, 10]           7,690\n",
            "================================================================\n",
            "Total params: 9,006\n",
            "Trainable params: 9,006\n",
            "Non-trainable params: 0\n",
            "----------------------------------------------------------------\n",
            "Input size (MB): 0.00\n",
            "Forward/backward pass size (MB): 0.12\n",
            "Params size (MB): 0.03\n",
            "Estimated Total Size (MB): 0.16\n",
            "----------------------------------------------------------------\n",
            "output.shape :  torch.Size([64, 10])\n"
          ]
        }
      ]
    },
    {
      "cell_type": "markdown",
      "source": [
        "### Training"
      ],
      "metadata": {
        "id": "BVQzHVIzZIwm"
      }
    },
    {
      "cell_type": "code",
      "source": [
        "#Training\n",
        "cost = nn.CrossEntropyLoss()\n",
        "\n",
        "trainModel(model1, train_loader, num_epochs, learning_rate, cost)"
      ],
      "metadata": {
        "colab": {
          "base_uri": "https://localhost:8080/"
        },
        "id": "DGCX_wIXXCq4",
        "outputId": "901b9ee5-bb90-4a9b-cd70-873cc3cab7ff"
      },
      "execution_count": 134,
      "outputs": [
        {
          "output_type": "stream",
          "name": "stdout",
          "text": [
            "Epoch [1/10], Step [469/938], Loss: 2.2571\n",
            "Epoch [1/10], Step [938/938], Loss: 2.2687\n",
            "Epoch [2/10], Step [469/938], Loss: 2.1904\n",
            "Epoch [2/10], Step [938/938], Loss: 2.0965\n",
            "Epoch [3/10], Step [469/938], Loss: 2.0621\n",
            "Epoch [3/10], Step [938/938], Loss: 1.9139\n",
            "Epoch [4/10], Step [469/938], Loss: 1.8862\n",
            "Epoch [4/10], Step [938/938], Loss: 1.8336\n",
            "Epoch [5/10], Step [469/938], Loss: 1.5671\n",
            "Epoch [5/10], Step [938/938], Loss: 1.4023\n",
            "Epoch [6/10], Step [469/938], Loss: 1.3950\n",
            "Epoch [6/10], Step [938/938], Loss: 1.4551\n",
            "Epoch [7/10], Step [469/938], Loss: 1.0663\n",
            "Epoch [7/10], Step [938/938], Loss: 0.8699\n",
            "Epoch [8/10], Step [469/938], Loss: 1.0166\n",
            "Epoch [8/10], Step [938/938], Loss: 0.7602\n",
            "Epoch [9/10], Step [469/938], Loss: 0.8093\n",
            "Epoch [9/10], Step [938/938], Loss: 0.6372\n",
            "Epoch [10/10], Step [469/938], Loss: 0.6974\n",
            "Epoch [10/10], Step [938/938], Loss: 0.5074\n"
          ]
        }
      ]
    },
    {
      "cell_type": "markdown",
      "source": [
        "### Testing"
      ],
      "metadata": {
        "id": "n68QMnGlZOZZ"
      }
    },
    {
      "cell_type": "code",
      "source": [
        "evaluateModel(model1, test_loader)"
      ],
      "metadata": {
        "colab": {
          "base_uri": "https://localhost:8080/"
        },
        "id": "_7tisAAYfm5g",
        "outputId": "20d0a779-a68d-4c95-966d-16df079abc56"
      },
      "execution_count": 136,
      "outputs": [
        {
          "output_type": "stream",
          "name": "stdout",
          "text": [
            "Accuracy of the network on the 10000 test images: 82.79 %\n"
          ]
        }
      ]
    },
    {
      "cell_type": "markdown",
      "source": [
        "### Save"
      ],
      "metadata": {
        "id": "ty48vjs7Arpm"
      }
    },
    {
      "cell_type": "code",
      "source": [
        "model1_scripted = torch.jit.script(model1) # Export to TorchScript\n",
        "model1_scripted.save('/content/Models/model1.pt') # Save"
      ],
      "metadata": {
        "id": "684EYOqWAtW9"
      },
      "execution_count": 21,
      "outputs": []
    },
    {
      "cell_type": "markdown",
      "source": [
        "## Modelo 2: LeNet4"
      ],
      "metadata": {
        "id": "965g0P_SGkUf"
      }
    },
    {
      "cell_type": "code",
      "source": [
        "class LeNet4(nn.Module):\n",
        "    def __init__(self, num_classes):\n",
        "        super(LeNet4, self).__init__()\n",
        "        self.block1 = nn.Sequential(\n",
        "            nn.Conv2d(1, 6, kernel_size = 5, padding = 'same'),\n",
        "            nn.ReLU(),\n",
        "            nn.MaxPool2d(kernel_size = 2, stride = 2))\n",
        "        self.block2 = nn.Sequential(\n",
        "            nn.Conv2d(6, 16, kernel_size = 5, padding = 'same'),\n",
        "            nn.ReLU(),\n",
        "            nn.MaxPool2d(kernel_size = 2, stride = 2))\n",
        "        self.dense = nn.Sequential(\n",
        "            nn.Linear(1024, 84),\n",
        "            nn.ReLU(),\n",
        "            nn.Linear(84, num_classes)\n",
        "        )\n",
        "\n",
        "    def forward(self, x):\n",
        "        out = self.block1(x)\n",
        "        out = self.block2(out)\n",
        "        \n",
        "        out = out.reshape(out.size(0), -1) #Flatten\n",
        "        out = self.dense(out)\n",
        "        return out"
      ],
      "metadata": {
        "id": "hsesb1BuGipv"
      },
      "execution_count": 135,
      "outputs": []
    },
    {
      "cell_type": "markdown",
      "source": [
        "### Info"
      ],
      "metadata": {
        "id": "tJjXagpSA8gN"
      }
    },
    {
      "cell_type": "code",
      "source": [
        "model2 = LeNet4(num_classes).to(device)\n",
        "x2 = torch.randn(64,1,32,32).to(device)\n",
        "output2 = model2(x)\n",
        "\n",
        "#print(model2)\n",
        "summary(model2, (1,32,32))\n",
        "print(\"output.shape : \",output2.shape)"
      ],
      "metadata": {
        "colab": {
          "base_uri": "https://localhost:8080/"
        },
        "id": "sd89ADrxIuLu",
        "outputId": "58038265-2a25-4b43-e6df-8a1363655212"
      },
      "execution_count": 137,
      "outputs": [
        {
          "output_type": "stream",
          "name": "stdout",
          "text": [
            "----------------------------------------------------------------\n",
            "        Layer (type)               Output Shape         Param #\n",
            "================================================================\n",
            "            Conv2d-1            [-1, 6, 32, 32]             156\n",
            "              ReLU-2            [-1, 6, 32, 32]               0\n",
            "         MaxPool2d-3            [-1, 6, 16, 16]               0\n",
            "            Conv2d-4           [-1, 16, 16, 16]           2,416\n",
            "              ReLU-5           [-1, 16, 16, 16]               0\n",
            "         MaxPool2d-6             [-1, 16, 8, 8]               0\n",
            "            Linear-7                   [-1, 84]          86,100\n",
            "              ReLU-8                   [-1, 84]               0\n",
            "            Linear-9                   [-1, 10]             850\n",
            "================================================================\n",
            "Total params: 89,522\n",
            "Trainable params: 89,522\n",
            "Non-trainable params: 0\n",
            "----------------------------------------------------------------\n",
            "Input size (MB): 0.00\n",
            "Forward/backward pass size (MB): 0.18\n",
            "Params size (MB): 0.34\n",
            "Estimated Total Size (MB): 0.52\n",
            "----------------------------------------------------------------\n",
            "output.shape :  torch.Size([64, 10])\n"
          ]
        }
      ]
    },
    {
      "cell_type": "markdown",
      "source": [
        "### Training"
      ],
      "metadata": {
        "id": "KxVFP6O5mjJq"
      }
    },
    {
      "cell_type": "code",
      "source": [
        "#Training\n",
        "cost2 = nn.CrossEntropyLoss()\n",
        "trainModel(model2, train_loader, num_epochs, learning_rate, cost2)"
      ],
      "metadata": {
        "colab": {
          "base_uri": "https://localhost:8080/"
        },
        "id": "mvkNC63bmHya",
        "outputId": "1904e0c9-2f54-48dc-c21c-c804b27cb934"
      },
      "execution_count": 138,
      "outputs": [
        {
          "output_type": "stream",
          "name": "stdout",
          "text": [
            "Epoch [1/10], Step [469/938], Loss: 2.2892\n",
            "Epoch [1/10], Step [938/938], Loss: 2.2316\n",
            "Epoch [2/10], Step [469/938], Loss: 2.2384\n",
            "Epoch [2/10], Step [938/938], Loss: 2.1648\n",
            "Epoch [3/10], Step [469/938], Loss: 2.0878\n",
            "Epoch [3/10], Step [938/938], Loss: 1.9468\n",
            "Epoch [4/10], Step [469/938], Loss: 1.7474\n",
            "Epoch [4/10], Step [938/938], Loss: 1.6890\n",
            "Epoch [5/10], Step [469/938], Loss: 1.3032\n",
            "Epoch [5/10], Step [938/938], Loss: 1.2832\n",
            "Epoch [6/10], Step [469/938], Loss: 1.0309\n",
            "Epoch [6/10], Step [938/938], Loss: 0.8622\n",
            "Epoch [7/10], Step [469/938], Loss: 0.8975\n",
            "Epoch [7/10], Step [938/938], Loss: 0.8561\n",
            "Epoch [8/10], Step [469/938], Loss: 0.7380\n",
            "Epoch [8/10], Step [938/938], Loss: 0.4932\n",
            "Epoch [9/10], Step [469/938], Loss: 0.4870\n",
            "Epoch [9/10], Step [938/938], Loss: 0.3934\n",
            "Epoch [10/10], Step [469/938], Loss: 0.4804\n",
            "Epoch [10/10], Step [938/938], Loss: 0.4292\n"
          ]
        }
      ]
    },
    {
      "cell_type": "markdown",
      "source": [
        "### Testing"
      ],
      "metadata": {
        "id": "RO-7q-gRmlqw"
      }
    },
    {
      "cell_type": "code",
      "source": [
        "evaluateModel(model2, test_loader)"
      ],
      "metadata": {
        "colab": {
          "base_uri": "https://localhost:8080/"
        },
        "id": "n_Jnc7PrmSHn",
        "outputId": "b400071f-c8c4-4929-f6bd-94c5e71bb833"
      },
      "execution_count": 139,
      "outputs": [
        {
          "output_type": "stream",
          "name": "stdout",
          "text": [
            "Accuracy of the network on the 10000 test images: 89.03 %\n"
          ]
        }
      ]
    },
    {
      "cell_type": "markdown",
      "source": [
        "### Save"
      ],
      "metadata": {
        "id": "padKdi7DBp5N"
      }
    },
    {
      "cell_type": "code",
      "source": [
        "model2_scripted = torch.jit.script(model2) # Export to TorchScript\n",
        "model2_scripted.save('/content/Models/model2.pt') # Save"
      ],
      "metadata": {
        "id": "Nr9a3Qi_BqLN"
      },
      "execution_count": 140,
      "outputs": []
    },
    {
      "cell_type": "markdown",
      "source": [
        "## Model 3: LeNet5"
      ],
      "metadata": {
        "id": "iTavd6yomZOX"
      }
    },
    {
      "cell_type": "code",
      "source": [
        "class LeNet5(nn.Module):\n",
        "    def __init__(self, num_classes):\n",
        "        super(LeNet5, self).__init__()\n",
        "        self.block1 = nn.Sequential(\n",
        "            nn.Conv2d(1, 6, kernel_size = 5, padding = 'same'),\n",
        "            nn.ReLU(),\n",
        "            nn.MaxPool2d(kernel_size = 2, stride = 2))\n",
        "        self.block2 = nn.Sequential(\n",
        "            nn.Conv2d(6, 16, kernel_size = 5, padding = 'same'),\n",
        "            nn.ReLU(),\n",
        "            nn.MaxPool2d(kernel_size = 2, stride = 2))\n",
        "        self.dense = nn.Sequential(\n",
        "            nn.Linear(1024, 120),\n",
        "            nn.ReLU(),\n",
        "            nn.Linear(120, 84),\n",
        "            nn.ReLU(),\n",
        "            nn.Linear(84, num_classes)\n",
        "        )\n",
        "\n",
        "    def forward(self, x):\n",
        "        out = self.block1(x)\n",
        "        out = self.block2(out)\n",
        "\n",
        "        out = out.reshape(out.size(0), -1) #Flatten\n",
        "        out = self.dense(out)\n",
        "        return out"
      ],
      "metadata": {
        "id": "ubXA8J-SmhaS"
      },
      "execution_count": 141,
      "outputs": []
    },
    {
      "cell_type": "markdown",
      "source": [
        "### Info"
      ],
      "metadata": {
        "id": "-tS2Cislkyrk"
      }
    },
    {
      "cell_type": "code",
      "source": [
        "model3 = LeNet5(num_classes).to(device)\n",
        "output3 = model3(x)\n",
        "\n",
        "#print(model3)\n",
        "summary(model3, (1,32,32))\n",
        "print(\"output.shape : \",output3.shape)"
      ],
      "metadata": {
        "colab": {
          "base_uri": "https://localhost:8080/"
        },
        "id": "Qfbjj-_MnaPS",
        "outputId": "67cb1aeb-5fb8-4b6b-b9ee-c426aefbf8cb"
      },
      "execution_count": 152,
      "outputs": [
        {
          "output_type": "stream",
          "name": "stdout",
          "text": [
            "----------------------------------------------------------------\n",
            "        Layer (type)               Output Shape         Param #\n",
            "================================================================\n",
            "            Conv2d-1            [-1, 6, 32, 32]             156\n",
            "              ReLU-2            [-1, 6, 32, 32]               0\n",
            "         MaxPool2d-3            [-1, 6, 16, 16]               0\n",
            "            Conv2d-4           [-1, 16, 16, 16]           2,416\n",
            "              ReLU-5           [-1, 16, 16, 16]               0\n",
            "         MaxPool2d-6             [-1, 16, 8, 8]               0\n",
            "            Linear-7                  [-1, 120]         123,000\n",
            "              ReLU-8                  [-1, 120]               0\n",
            "            Linear-9                   [-1, 84]          10,164\n",
            "             ReLU-10                   [-1, 84]               0\n",
            "           Linear-11                   [-1, 10]             850\n",
            "================================================================\n",
            "Total params: 136,586\n",
            "Trainable params: 136,586\n",
            "Non-trainable params: 0\n",
            "----------------------------------------------------------------\n",
            "Input size (MB): 0.00\n",
            "Forward/backward pass size (MB): 0.18\n",
            "Params size (MB): 0.52\n",
            "Estimated Total Size (MB): 0.70\n",
            "----------------------------------------------------------------\n",
            "output.shape :  torch.Size([64, 10])\n"
          ]
        }
      ]
    },
    {
      "cell_type": "markdown",
      "source": [
        "### Teaining"
      ],
      "metadata": {
        "id": "0YEExGbcpE5f"
      }
    },
    {
      "cell_type": "code",
      "source": [
        "#Training\n",
        "cost3 = nn.CrossEntropyLoss()\n",
        "trainModel(model3, train_loader, num_epochs, learning_rate, cost3)"
      ],
      "metadata": {
        "colab": {
          "base_uri": "https://localhost:8080/"
        },
        "id": "6X_hY0oLpHMP",
        "outputId": "a84db46a-46b2-416c-8d63-ba1999faaf39"
      },
      "execution_count": 143,
      "outputs": [
        {
          "output_type": "stream",
          "name": "stdout",
          "text": [
            "Epoch [1/10], Step [469/938], Loss: 2.2988\n",
            "Epoch [1/10], Step [938/938], Loss: 2.2736\n",
            "Epoch [2/10], Step [469/938], Loss: 2.2870\n",
            "Epoch [2/10], Step [938/938], Loss: 2.2750\n",
            "Epoch [3/10], Step [469/938], Loss: 2.2670\n",
            "Epoch [3/10], Step [938/938], Loss: 2.2576\n",
            "Epoch [4/10], Step [469/938], Loss: 2.2230\n",
            "Epoch [4/10], Step [938/938], Loss: 2.1866\n",
            "Epoch [5/10], Step [469/938], Loss: 2.1223\n",
            "Epoch [5/10], Step [938/938], Loss: 2.0400\n",
            "Epoch [6/10], Step [469/938], Loss: 1.9428\n",
            "Epoch [6/10], Step [938/938], Loss: 1.6458\n",
            "Epoch [7/10], Step [469/938], Loss: 1.5152\n",
            "Epoch [7/10], Step [938/938], Loss: 1.3499\n",
            "Epoch [8/10], Step [469/938], Loss: 1.1509\n",
            "Epoch [8/10], Step [938/938], Loss: 0.9618\n",
            "Epoch [9/10], Step [469/938], Loss: 1.0151\n",
            "Epoch [9/10], Step [938/938], Loss: 0.9745\n",
            "Epoch [10/10], Step [469/938], Loss: 0.7184\n",
            "Epoch [10/10], Step [938/938], Loss: 0.7064\n"
          ]
        }
      ]
    },
    {
      "cell_type": "markdown",
      "source": [
        "### Testing"
      ],
      "metadata": {
        "id": "o1cPWKm1pHuu"
      }
    },
    {
      "cell_type": "code",
      "source": [
        "evaluateModel(model3, test_loader)"
      ],
      "metadata": {
        "id": "fWUSuGP-pJhV",
        "colab": {
          "base_uri": "https://localhost:8080/"
        },
        "outputId": "3685248a-9f2d-4fdf-9622-5f19ded0f4c0"
      },
      "execution_count": 144,
      "outputs": [
        {
          "output_type": "stream",
          "name": "stdout",
          "text": [
            "Accuracy of the network on the 10000 test images: 84.2 %\n"
          ]
        }
      ]
    },
    {
      "cell_type": "markdown",
      "source": [
        "### Save"
      ],
      "metadata": {
        "id": "2tV--O0qCD5J"
      }
    },
    {
      "cell_type": "code",
      "source": [
        "model3_scripted = torch.jit.script(model3) # Export to TorchScript\n",
        "model3_scripted.save('/content/Models/model3.pt') # Save"
      ],
      "metadata": {
        "id": "WI6zL39yCEW0"
      },
      "execution_count": 32,
      "outputs": []
    },
    {
      "cell_type": "markdown",
      "source": [
        "## Custom Model"
      ],
      "metadata": {
        "id": "LyVPJlHspj-9"
      }
    },
    {
      "cell_type": "code",
      "source": [
        "class CustomNet(nn.Module):\n",
        "    def __init__(self, num_classes):\n",
        "        super(CustomNet, self).__init__()\n",
        "        self.block1 = nn.Sequential(\n",
        "            nn.Conv2d(1, 32,  kernel_size = 3, padding = 'valid'),\n",
        "            nn.ReLU(),\n",
        "            nn.Conv2d(32, 32,  kernel_size = 3, padding = 'valid'),\n",
        "            nn.ReLU(),\n",
        "            nn.MaxPool2d(kernel_size = 2, stride = 2))\n",
        "        self.block2 = nn.Sequential(\n",
        "            nn.Conv2d(32, 64,  kernel_size = 3, padding = 'valid'),\n",
        "            nn.ReLU(),\n",
        "            nn.Conv2d(64, 64,  kernel_size = 3, padding = 'valid'),\n",
        "            nn.ReLU(),\n",
        "            nn.MaxPool2d(kernel_size = 2, stride = 2))\n",
        "        self.dense = nn.Sequential(\n",
        "            nn.Linear(1600, 200),\n",
        "            nn.ReLU(),\n",
        "            nn.Linear(200, 200),\n",
        "            nn.ReLU(),\n",
        "            nn.Linear(200, num_classes)\n",
        "        )\n",
        "\n",
        "    def forward(self, x):\n",
        "        out = self.block1(x)\n",
        "        out = self.block2(out)\n",
        "        \n",
        "        out = out.reshape(out.size(0), -1) #Flatten\n",
        "        out = self.dense(out)\n",
        "        return out"
      ],
      "metadata": {
        "id": "2PHY8mQRqVSS"
      },
      "execution_count": 145,
      "outputs": []
    },
    {
      "cell_type": "markdown",
      "source": [
        "### Info"
      ],
      "metadata": {
        "id": "L8gQEwZfjC8v"
      }
    },
    {
      "cell_type": "code",
      "source": [
        "model4 = CustomNet(num_classes).to(device)\n",
        "x = torch.randn(64,1,32,32).to(device)\n",
        "output4 = model4(x)\n",
        "\n",
        "summary(model4, (1,32,32))\n",
        "#print(model4)\n",
        "print(\"output.shape : \", output4.shape)"
      ],
      "metadata": {
        "colab": {
          "base_uri": "https://localhost:8080/"
        },
        "id": "jYfTa9L6xIPq",
        "outputId": "f07b0fc8-4569-47c0-f58b-91fb7e522fd2"
      },
      "execution_count": 155,
      "outputs": [
        {
          "output_type": "stream",
          "name": "stdout",
          "text": [
            "----------------------------------------------------------------\n",
            "        Layer (type)               Output Shape         Param #\n",
            "================================================================\n",
            "            Conv2d-1           [-1, 32, 30, 30]             320\n",
            "              ReLU-2           [-1, 32, 30, 30]               0\n",
            "            Conv2d-3           [-1, 32, 28, 28]           9,248\n",
            "              ReLU-4           [-1, 32, 28, 28]               0\n",
            "         MaxPool2d-5           [-1, 32, 14, 14]               0\n",
            "            Conv2d-6           [-1, 64, 12, 12]          18,496\n",
            "              ReLU-7           [-1, 64, 12, 12]               0\n",
            "            Conv2d-8           [-1, 64, 10, 10]          36,928\n",
            "              ReLU-9           [-1, 64, 10, 10]               0\n",
            "        MaxPool2d-10             [-1, 64, 5, 5]               0\n",
            "           Linear-11                  [-1, 200]         320,200\n",
            "             ReLU-12                  [-1, 200]               0\n",
            "           Linear-13                  [-1, 200]          40,200\n",
            "             ReLU-14                  [-1, 200]               0\n",
            "           Linear-15                   [-1, 10]           2,010\n",
            "================================================================\n",
            "Total params: 427,402\n",
            "Trainable params: 427,402\n",
            "Non-trainable params: 0\n",
            "----------------------------------------------------------------\n",
            "Input size (MB): 0.00\n",
            "Forward/backward pass size (MB): 1.13\n",
            "Params size (MB): 1.63\n",
            "Estimated Total Size (MB): 2.76\n",
            "----------------------------------------------------------------\n",
            "output.shape :  torch.Size([64, 10])\n"
          ]
        }
      ]
    },
    {
      "cell_type": "code",
      "source": [
        "model4."
      ],
      "metadata": {
        "id": "__Q0GgP5t6N_"
      },
      "execution_count": null,
      "outputs": []
    },
    {
      "cell_type": "markdown",
      "source": [
        "### Training"
      ],
      "metadata": {
        "id": "XgwabRCbDsZc"
      }
    },
    {
      "cell_type": "code",
      "source": [
        "#Training\n",
        "cost = nn.CrossEntropyLoss()\n",
        "\n",
        "trainModel(model4, train_loader, num_epochs, learning_rate, cost)"
      ],
      "metadata": {
        "colab": {
          "base_uri": "https://localhost:8080/"
        },
        "id": "-lQk7-cODSIW",
        "outputId": "87673bd9-063d-406f-997d-a204c6cc7191"
      },
      "execution_count": 149,
      "outputs": [
        {
          "output_type": "stream",
          "name": "stdout",
          "text": [
            "Epoch [1/9], Step [469/938], Loss: 0.2739\n",
            "Epoch [1/9], Step [938/938], Loss: 0.5004\n",
            "Epoch [2/9], Step [469/938], Loss: 0.1327\n",
            "Epoch [2/9], Step [938/938], Loss: 0.2999\n",
            "Epoch [3/9], Step [469/938], Loss: 0.2895\n",
            "Epoch [3/9], Step [938/938], Loss: 0.2537\n",
            "Epoch [4/9], Step [469/938], Loss: 0.2480\n",
            "Epoch [4/9], Step [938/938], Loss: 0.1805\n",
            "Epoch [5/9], Step [469/938], Loss: 0.3096\n",
            "Epoch [5/9], Step [938/938], Loss: 0.5341\n",
            "Epoch [6/9], Step [469/938], Loss: 0.3130\n",
            "Epoch [6/9], Step [938/938], Loss: 0.6519\n",
            "Epoch [7/9], Step [469/938], Loss: 0.4142\n",
            "Epoch [7/9], Step [938/938], Loss: 0.2463\n",
            "Epoch [8/9], Step [469/938], Loss: 0.3347\n",
            "Epoch [8/9], Step [938/938], Loss: 0.2070\n",
            "Epoch [9/9], Step [469/938], Loss: 0.0769\n",
            "Epoch [9/9], Step [938/938], Loss: 0.0839\n"
          ]
        }
      ]
    },
    {
      "cell_type": "markdown",
      "source": [
        "### Testing"
      ],
      "metadata": {
        "id": "GcOt7RtFDvVL"
      }
    },
    {
      "cell_type": "code",
      "source": [
        "evaluateModel(model4, test_loader)"
      ],
      "metadata": {
        "colab": {
          "base_uri": "https://localhost:8080/"
        },
        "id": "NbIP87Z9Dvuc",
        "outputId": "bbb8b002-b544-4190-ed37-a7703b7dee07"
      },
      "execution_count": 154,
      "outputs": [
        {
          "output_type": "stream",
          "name": "stdout",
          "text": [
            "Accuracy of the network on the 10000 test images: 94.21 %\n"
          ]
        }
      ]
    },
    {
      "cell_type": "markdown",
      "source": [
        "### Save"
      ],
      "metadata": {
        "id": "qP9jUcX3kfkF"
      }
    },
    {
      "cell_type": "code",
      "source": [
        "model4_scripted = torch.jit.script(model4) # Export to TorchScript\n",
        "model4_scripted.save('/content/Models/model4.pt') # Save"
      ],
      "metadata": {
        "id": "0G5xiG-gkhXU"
      },
      "execution_count": 151,
      "outputs": []
    }
  ]
}